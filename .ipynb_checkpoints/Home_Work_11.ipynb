{
 "cells": [
  {
   "cell_type": "code",
   "execution_count": 28,
   "id": "17a19ba0",
   "metadata": {},
   "outputs": [
    {
     "name": "stdout",
     "output_type": "stream",
     "text": [
      "Корни функции: x1 =  5.631  x2 =  -14.798  x3 =  5.631\n"
     ]
    }
   ],
   "source": [
    "# Дана функция f(x) = 0.6x^3+5.5x^2+10x-5\n",
    "# Определить корни\n",
    "import math\n",
    "\n",
    "a = 0.6\n",
    "b = 5.5\n",
    "c = 10\n",
    "d = -5\n",
    "\n",
    "D = b**2 - 4*a*c*d\n",
    "\n",
    "if D > 0:\n",
    "    x1 = round((-b + math.sqrt(D)) / (2*a), 3)\n",
    "    x2 = round((-b - math.sqrt(D)) / (2*a), 3)\n",
    "    x3 = round((-b + math.sqrt(D)) / (2*a), 3)\n",
    "    print(\"Корни функции: x1 = \", x1, \" x2 = \", x2, \" x3 = \", x3)"
   ]
  },
  {
   "cell_type": "code",
   "execution_count": 29,
   "id": "d44b2e34",
   "metadata": {},
   "outputs": [
    {
     "name": "stdout",
     "output_type": "stream",
     "text": [
      "Функция убывает на интервале ( 5.631 , -14.798 ) и возрастает на интервалах ( 5.631 , 5.631 ) и ( -14.798 , 5.631 )\n"
     ]
    }
   ],
   "source": [
    "# Найти интервалы, на которых функция возрастает\n",
    "# Найти интервалы, на которых функция убывает \n",
    "\n",
    "f_1 = a*x1**3 + b*x1**2 + c*x1 + d\n",
    "f_2 = a*x2**3 + b*x2**2 + c*x2 + d\n",
    "f_3 = a*x3**3 + b*x3**2 + c*x3 + d\n",
    "if f_1 < 0 and f_2 > 0 and f_3 < 0:\n",
    "    print(\"Функция возрастает на интервале (\", x1, \",\", x2, \") и убывает на интервалах (\", x1, \",\", x3, \") и (\", x2, \",\", x3, \")\")\n",
    "elif f_1 > 0 and f_2 < 0 and f_3 > 0:\n",
    "    print(\"Функция убывает на интервале (\", x1, \",\", x2, \") и возрастает на интервалах (\", x1, \",\", x3, \") и (\", x2, \",\", x3, \")\")"
   ]
  },
  {
   "cell_type": "code",
   "execution_count": 26,
   "id": "1f05afb8",
   "metadata": {
    "scrolled": false
   },
   "outputs": [
    {
     "data": {
      "image/png": "[encoded data removed]",
      "text/plain": [
       "<Figure size 640x480 with 1 Axes>"
      ]
     },
     "metadata": {},
     "output_type": "display_data"
    }
   ],
   "source": [
    "# Построить график\n",
    "\n",
    "import matplotlib.pyplot as plt\n",
    "\n",
    "x = range(-13, 14)\n",
    "y = [0.6*i**3 + 5.5*i**2 + 10*i - 5 for i in x]\n",
    "plt.plot(x, y)\n",
    "plt.show()"
   ]
  },
  {
   "cell_type": "code",
   "execution_count": 33,
   "id": "160e9200",
   "metadata": {},
   "outputs": [
    {
     "name": "stdout",
     "output_type": "stream",
     "text": [
      "Координаты вершины: ( -3.056 , -1.322 )\n"
     ]
    }
   ],
   "source": [
    "# Вычислить вершину\n",
    "x_vertex = -b / (3*a)\n",
    "y_vertex = a*x_vertex**3 + b*x_vertex**2 + c*x_vertex + d\n",
    "\n",
    "x_vertex = round(x_vertex, 3)\n",
    "y_vertex = round(y_vertex, 3)\n",
    "print(\"Координаты вершины: (\", x_vertex, \",\", y_vertex, \")\")"
   ]
  },
  {
   "cell_type": "code",
   "execution_count": 34,
   "id": "e6eaf44b",
   "metadata": {},
   "outputs": [
    {
     "name": "stdout",
     "output_type": "stream",
     "text": [
      "f < 0 на интервале ( 5.631 , -14.798 )\n",
      "f > 0 на интервалах ( 5.631 , 5.631 ) и ( -14.798 , 5.631 )\n"
     ]
    }
   ],
   "source": [
    "# Определить промежутки, на котором f > 0\n",
    "# Определить промежутки, на котором f < 0\n",
    "\n",
    "if f_1 < 0 and f_2 > 0 and f_3 < 0:\n",
    "    print(\"f > 0 на интервале (\", x1, \",\", x2, \")\")\n",
    "    print(\"f < 0 на интервалах (\", x1, \",\", x3, \") и (\", x2, \",\", x3, \")\")\n",
    "elif f_1 > 0 and f_2 < 0 and f_3 > 0:\n",
    "    print(\"f < 0 на интервале (\", x1, \",\", x2, \")\")\n",
    "    print(\"f > 0 на интервалах (\", x1, \",\", x3, \") и (\", x2, \",\", x3, \")\")"
   ]
  }
 ],
 "metadata": {
  "kernelspec": {
   "display_name": "Python 3",
   "language": "python",
   "name": "python3"
  },
  "language_info": {
   "codemirror_mode": {
    "name": "ipython",
    "version": 3
   },
   "file_extension": ".py",
   "mimetype": "text/x-python",
   "name": "python",
   "nbconvert_exporter": "python",
   "pygments_lexer": "ipython3",
   "version": "3.11.0 (main, Oct 24 2022, 18:26:48) [MSC v.1933 64 bit (AMD64)]"
  },
  "vscode": {
   "interpreter": {
    "hash": "81b1a58e822d519337d17b1a71a37f3f6311f94fcd34db94c556774a55388f66"
   }
  }
 },
 "nbformat": 4,
 "nbformat_minor": 5
}
